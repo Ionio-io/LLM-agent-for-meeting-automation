{
 "cells": [
  {
   "cell_type": "code",
   "execution_count": null,
   "metadata": {},
   "outputs": [],
   "source": [
    "!pip install openai langchain "
   ]
  },
  {
   "cell_type": "code",
   "execution_count": null,
   "metadata": {},
   "outputs": [],
   "source": [
    "import os\n",
    "from langchain.llms import OpenAI\n",
    "OpenAI_LLM = OpenAI(temperature=0.6,api_key=os.environ[\"OPENAI_KEY\"])"
   ]
  },
  {
   "cell_type": "code",
   "execution_count": null,
   "metadata": {},
   "outputs": [],
   "source": [
    "bot = OpenAI_LLM(\"Say hello if you are working!\")\n",
    "print(bot)"
   ]
  },
  {
   "cell_type": "code",
   "execution_count": null,
   "metadata": {},
   "outputs": [],
   "source": [
    "from langchain.prompts import PromptTemplate\n",
    "# Create first chain\n",
    "prompt_1 = PromptTemplate.from_template(\n",
    "    \"Give me a {cuisine} restaurant name. Only return name\"\n",
    ")"
   ]
  },
  {
   "cell_type": "code",
   "execution_count": null,
   "metadata": {},
   "outputs": [],
   "source": [
    "from langchain.chains import LLMChain\n",
    "first_chain = LLMChain(llm=OpenAI_LLM,prompt=prompt_1)\n",
    "# To run this chain use below code\n",
    "# first_chain.run(\"Indian\") // Passing cuisine parameter"
   ]
  },
  {
   "cell_type": "code",
   "execution_count": null,
   "metadata": {},
   "outputs": [],
   "source": [
    "# Create second chain\n",
    "prompt_2 = PromptTemplate.from_template(\n",
    "    \"Give me 10 dish names for restaurant {restaurant}\"\n",
    ")\n",
    "second_chain = LLMChain(llm=OpenAI_LLM,prompt=prompt_2)"
   ]
  },
  {
   "cell_type": "code",
   "execution_count": null,
   "metadata": {},
   "outputs": [],
   "source": [
    "# Combine these 2 chains\n",
    "final_chain = SimpleSequentialChain(chains=[first_chain,second_chain])\n",
    "response = final_chain.run(\"Indian\")\n",
    "print(response)"
   ]
  },
  {
   "cell_type": "markdown",
   "metadata": {},
   "source": [
    "### Creating Sequential chain"
   ]
  },
  {
   "cell_type": "code",
   "execution_count": null,
   "metadata": {},
   "outputs": [],
   "source": [
    "# Create first chain\n",
    "prompt_1 = PromptTemplate.from_template(\n",
    "    \"Give me a {cuisine} restaurant name. Only return name\"\n",
    ")\n",
    "# here we will specify output_key which will be used in next chain as an input\n",
    "first_chain = LLMChain(llm=OpenAI_LLM,prompt=prompt_1,output_key=\"restaurant_name\")\n",
    "# Create second chain\n",
    "prompt_2 = PromptTemplate.from_template(\n",
    "    \"Give me 10 dish names for restaurant {restaurant}\"\n",
    ")\n",
    "second_chain = LLMChain(llm=OpenAI_LLM,prompt=prompt_2,output_key=\"dishes\")"
   ]
  },
  {
   "cell_type": "code",
   "execution_count": null,
   "metadata": {},
   "outputs": [],
   "source": [
    "from langchain.chains import SequentialChain\n",
    "# Combining both chains into sequential chain\n",
    "final_sequencial_chain = SequentialChain(\n",
    "    input_variables=[\"cuisine\"],\n",
    "    # we want c and result both in output \n",
    "    output_variables=[\"restaurant_name\",\"dishes\"],\n",
    "    chains=[first_chain,second_chain]\n",
    ")\n",
    "# In sequencial chain, we can have multiple inputs so use tuple here for parameters.\n",
    "final_sequencial_chain({\"cuisine\":\"Mexican\"})"
   ]
  }
 ],
 "metadata": {
  "language_info": {
   "name": "python"
  }
 },
 "nbformat": 4,
 "nbformat_minor": 2
}
